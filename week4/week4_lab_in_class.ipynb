{
  "nbformat": 4,
  "nbformat_minor": 0,
  "metadata": {
    "colab": {
      "provenance": []
    },
    "kernelspec": {
      "name": "python3",
      "display_name": "Python 3"
    },
    "language_info": {
      "name": "python"
    }
  },
  "cells": [
    {
      "cell_type": "code",
      "execution_count": null,
      "metadata": {
        "id": "1N8FB7_KFAIT"
      },
      "outputs": [],
      "source": [
        "# we are going to work on a version of the #dubois challenge\n",
        "# using the w.e.b. dubois original visualizations as inspiration\n",
        "\n",
        "# 🎨 and working with the du bois style guide\n",
        "# https://github.com/ajstarks/dubois-data-portraits/blob/master/dubois-style.md\n",
        "# but with contemporary datasets\n",
        "\n",
        "# choose a dataset in your group!\n",
        "\n",
        "# option 1: 🏙️ nyc rent data\n",
        "# dataset: https://github.com/mab253/dataviz_fall23/blob/main/week4/median-rent-formatted.csv\n",
        "# get the 'raw' url from that page\n",
        "# inspiration: https://github.com/ajstarks/dubois-data-portraits/blob/master/plate07/original-plate-07.jpg\n",
        "\n",
        "# option 2: 🏠 race + home ownership data\n",
        "# dataset: https://github.com/mab253/dataviz_fall23/blob/main/week4/home-ownership-race-states(2).csv\n",
        "# get the 'raw' url from that page\n",
        "# inspiration: https://github.com/ajstarks/dubois-data-portraits/blob/master/plate56/original-plate-56.jpg\n",
        "\n",
        "# option 3: 💸 black families spending data, brazil\n",
        "# dataset: https://github.com/mab253/dataviz_fall23/blob/main/week4/brazilian-black-family-expenses.csv\n",
        "# get the 'raw' url from that page\n",
        "# inspiration: https://github.com/ajstarks/dubois-data-portraits/blob/master/plate31/original-plate-31.jpg\n",
        "# inspiration#2: https://github.com/IcaroBernardes/webdubois/blob/main/2023/week01/expenses.png\n",
        "\n",
        "# option 4: 💰 changing nyc income levels\n",
        "# dataset: https://github.com/mab253/dataviz_fall23/blob/main/week4/income-distribution-formatted.csv\n",
        "# get the 'raw' url from that page\n",
        "# inspiration: https://github.com/ajstarks/dubois-data-portraits/blob/master/plate09/original-plate-09.jpg\n",
        "\n"
      ]
    },
    {
      "cell_type": "code",
      "source": [
        "# directions:\n",
        "\n",
        "# load the csv file with pandas\n",
        "\n",
        "# explore around in pandas - you could also take a look @ the raw table on another platform\n",
        "\n",
        "# does your data need to be cleaned or transformed in any way?\n",
        "\n",
        "# look @ the inspiration original plate - what variables need to go where? (you could sketch this out by hand)\n",
        "\n",
        "# as closely as you can, craft your visualization to match the original style guide\n",
        "# https://github.com/ajstarks/dubois-data-portraits/blob/master/dubois-style.md\n",
        "# 👆 this includes a color palette, other suggestions about text\n",
        "\n",
        "# use what you know - but also make good use of documentation, googling, etc. to find new techniques!\n",
        "\n",
        "# you can use matplotlib, seaborn, or a combination\n",
        "\n",
        "# suggestions of functions to check out:\n",
        "# plt.barh - horizontal bars https://matplotlib.org/stable/api/_as_gen/matplotlib.pyplot.barh.html\n",
        "# plt.subplot - subplots - you will probably need more than 1: https://matplotlib.org/stable/api/_as_gen/matplotlib.pyplot.subplot.html\n",
        "# matplotlib.figure - designing the whole figure - https://matplotlib.org/stable/api/figure_api.html\n",
        "\n",
        "# work together, divide up the labor/questions ... go as far as you can!\n",
        "# you may make choices that depart from the style guides\n",
        "# you may ask questions!!\n"
      ],
      "metadata": {
        "id": "4k-UwnNHG-e-"
      },
      "execution_count": null,
      "outputs": []
    },
    {
      "cell_type": "code",
      "source": [
        "# code to get you started ...\n",
        "\n",
        "import matplotlib.pyplot as plt\n",
        "import seaborn as sns\n",
        "import pandas as pd\n",
        "\n",
        "from matplotlib import font_manager\n",
        "\n",
        "# fonts to get you started!\n",
        "# download font from here: https://github.com/mab253/dataviz_fall23/blob/main/week4/B52-ULC%20W00%20ULC.ttf\n",
        "# and upload it into the jupyter/colab notebook filesystem\n",
        "\n",
        "font_manager.fontManager.addfont('/content/B52-ULC W00 ULC.ttf')\n",
        "\n",
        "fig, ax = plt.subplots(figsize=(10, 8))\n",
        "fig.set_facecolor(\"white\") # you might want to change this! to what background color?\n",
        "\n",
        "plt.rcParams['font.sans-serif'] = 'B52-ULC W00 ULC'\n",
        "plt.rcParams['font.family'] = 'sans-serif'\n",
        "\n",
        "fig.suptitle(\"OUR VISUALIZATION\", fontsize=22)"
      ],
      "metadata": {
        "colab": {
          "base_uri": "https://localhost:8080/",
          "height": 773
        },
        "id": "eA4KVDNqHBbz",
        "outputId": "b50f94b7-e6e3-4193-e85f-fd4177f75cce"
      },
      "execution_count": null,
      "outputs": [
        {
          "output_type": "execute_result",
          "data": {
            "text/plain": [
              "Text(0.5, 0.98, 'OUR VISUALIZATION')"
            ]
          },
          "metadata": {},
          "execution_count": 13
        },
        {
          "output_type": "display_data",
          "data": {
            "text/plain": [
              "<Figure size 1000x800 with 1 Axes>"
            ],
            "image/png": "[encoded data removed]"
          },
          "metadata": {}
        }
      ]
    },
    {
      "cell_type": "code",
      "source": [
        "#\n"
      ],
      "metadata": {
        "id": "RhXYJwH7VUnz"
      },
      "execution_count": null,
      "outputs": []
    },
    {
      "cell_type": "code",
      "source": [
        "#\n"
      ],
      "metadata": {
        "id": "kTW40m3FVVbt"
      },
      "execution_count": null,
      "outputs": []
    },
    {
      "cell_type": "code",
      "source": [
        "#\n"
      ],
      "metadata": {
        "id": "FoCvXNzEVV69"
      },
      "execution_count": null,
      "outputs": []
    },
    {
      "cell_type": "code",
      "source": [
        "#\n",
        ""
      ],
      "metadata": {
        "id": "TGrqMV9cVWYt"
      },
      "execution_count": null,
      "outputs": []
    },
    {
      "cell_type": "code",
      "source": [
        "#\n"
      ],
      "metadata": {
        "id": "Emy2v-qRVW2U"
      },
      "execution_count": null,
      "outputs": []
    },
    {
      "cell_type": "markdown",
      "source": [
        "## 🪼 when you are finished! submit: 🖇️\n",
        "\n",
        "1. Download this notebook as an `.ipynb` file (File -> Download)\n",
        "2. Go to [this link](https://airtable.com/appJ1zoJbOnRhJYPQ/shr6LkH556ySC6uqU) and upload the file via the form.\n",
        "3. Then you're done! In-class labs are counted as participation credit."
      ],
      "metadata": {
        "id": "zvdT9mRUVXhE"
      }
    }
  ]
}