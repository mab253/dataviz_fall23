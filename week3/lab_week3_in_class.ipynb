{
  "nbformat": 4,
  "nbformat_minor": 0,
  "metadata": {
    "colab": {
      "provenance": []
    },
    "kernelspec": {
      "name": "python3",
      "display_name": "Python 3"
    },
    "language_info": {
      "name": "python"
    }
  },
  "cells": [
    {
      "cell_type": "code",
      "execution_count": null,
      "metadata": {
        "id": "4o0e-2wLAxpr"
      },
      "outputs": [],
      "source": [
        "# install the dataset via pip, python package manager\n",
        "!pip install palmerpenguins\n",
        "from palmerpenguins import load_penguins_raw\n",
        "\n",
        "# load dataframe into variable called penguins\n",
        "penguins = load_penguins_raw()"
      ]
    },
    {
      "cell_type": "code",
      "source": [
        "import pandas as pd\n",
        "\n",
        "penguins.head(1)"
      ],
      "metadata": {
        "id": "lmt03E2zBMR1"
      },
      "execution_count": null,
      "outputs": []
    },
    {
      "cell_type": "code",
      "source": [
        "# get rid of some numerical columns we are not going to use\n",
        "penguins = penguins.drop(columns=[\"Sample Number\", \"Delta 15 N (o/oo)\", \"Delta 13 C (o/oo)\"])\n",
        "penguins.head(1)"
      ],
      "metadata": {
        "id": "VV-4LOfnHwuh"
      },
      "execution_count": null,
      "outputs": []
    },
    {
      "cell_type": "code",
      "source": [
        "import seaborn as sns\n",
        "species = penguins[\"Species\"].unique()\n",
        "print(species)\n",
        "\n",
        "sns.pairplot(data=penguins, hue=\"Species\", palette=\"flare\")\n",
        "# sns.pairplot(data=penguins, hue=\"Species\", palette={species[0]: \"red\", species[1]: \"green\", species[2]: \"blue\"})\n",
        "\n",
        "# on pairplot function: https://seaborn.pydata.org/generated/seaborn.pairplot.html\n",
        "# on color palettes: https://seaborn.pydata.org/tutorial/color_palettes.html\n",
        "# more on color palettes: https://www.practicalpythonfordatascience.com/ap_seaborn_palette"
      ],
      "metadata": {
        "id": "5cxnz1HdBire"
      },
      "execution_count": null,
      "outputs": []
    },
    {
      "cell_type": "code",
      "source": [
        "sns.pairplot(penguins, kind=\"kde\")\n",
        "\n",
        "# https://seaborn.pydata.org/generated/seaborn.kdeplot.html#seaborn.kdeplot"
      ],
      "metadata": {
        "id": "zEuSSU_FG9PL"
      },
      "execution_count": null,
      "outputs": []
    },
    {
      "cell_type": "code",
      "source": [
        "# we can combine plots just like in matplotlib\n",
        "\n",
        "grid = sns.pairplot(penguins, diag_kind=\"kde\", plot_kws={'color': 'purple', 'alpha': 0.6}, diag_kws={'color': 'teal'})\n",
        "grid.map_lower(sns.kdeplot, levels=4, color=\"black\")"
      ],
      "metadata": {
        "id": "IbFP3bwEqCml"
      },
      "execution_count": null,
      "outputs": []
    },
    {
      "cell_type": "code",
      "source": [
        "# 🎨 a palette in seaborn = a list of colors\n",
        "\n",
        "# print the default color palette:\n",
        "sns.color_palette()"
      ],
      "metadata": {
        "id": "kIgoW13rS6BG"
      },
      "execution_count": null,
      "outputs": []
    },
    {
      "cell_type": "code",
      "source": [
        "# print the r,g,b values:\n",
        "\n",
        "print(sns.color_palette())"
      ],
      "metadata": {
        "id": "XQ--yibRsTiE"
      },
      "execution_count": null,
      "outputs": []
    },
    {
      "cell_type": "code",
      "source": [
        "# full list of palettes: https://www.practicalpythonfordatascience.com/ap_seaborn_palette\n",
        "\n",
        "# print 1 that you like\n",
        "\n",
        "sns.color_palette(\"viridis\")"
      ],
      "metadata": {
        "id": "Hx82_nPMsdb4"
      },
      "execution_count": null,
      "outputs": []
    },
    {
      "cell_type": "code",
      "source": [
        "# print another palette that you like\n",
        "\n",
        "sns.color_palette(\"magma\")"
      ],
      "metadata": {
        "id": "yBEj3b_ytHWO"
      },
      "execution_count": null,
      "outputs": []
    },
    {
      "cell_type": "code",
      "source": [
        "# print another palette that you like\n",
        "\n",
        "sns.color_palette(\"Greens\")"
      ],
      "metadata": {
        "id": "AsOgJQqbtJhs"
      },
      "execution_count": null,
      "outputs": []
    },
    {
      "cell_type": "code",
      "source": [
        "# to create a custom palette between 2 colors:\n",
        "# https://seaborn.pydata.org/generated/seaborn.blend_palette.html\n",
        "# let's use hexidecimal color: https://htmlcolorcodes.com/color-picker/\n",
        "\n",
        "# going from a fushia to a yellow\n",
        "# sequential, gradient\n",
        "colors = [\"#f31265\", \"#e8f14f\"]\n",
        "sns.blend_palette(colors, n_colors=10, input=\"hex\")"
      ],
      "metadata": {
        "id": "8WRGfSqpt379"
      },
      "execution_count": null,
      "outputs": []
    },
    {
      "cell_type": "code",
      "source": [
        "# blend a custom palette with the xkcd color space, named colors:\n",
        "# https://xkcd.com/color/rgb/\n",
        "\n",
        "colors = [\"pale green\", \"powder blue\"]\n",
        "sns.blend_palette(colors, n_colors=10, input=\"xkcd\")"
      ],
      "metadata": {
        "id": "J5ZM0PMqu6sj"
      },
      "execution_count": null,
      "outputs": []
    },
    {
      "cell_type": "code",
      "source": [
        "# 🖍️ and crayola crayon names!\n",
        "\n",
        "print(sns.crayons)\n",
        "colors = [\"Peach\", \"Piggy Pink\", \"Atomic Tangerine\", \"Banana Mania\"]\n",
        "sns.crayon_palette(colors)\n",
        "\n",
        "# notice this isn't a blend, but the exact number of the colors you chose"
      ],
      "metadata": {
        "id": "i8S9IWPOvTb8"
      },
      "execution_count": null,
      "outputs": []
    },
    {
      "cell_type": "code",
      "source": [
        "sns.color_palette(\"Spectral\", as_cmap=True)\n",
        "\n",
        "# as_cmap here = as color map, continuous color not discrete\n",
        "# try magma, inferno, icefire\n",
        "# others in this full list: https://www.practicalpythonfordatascience.com/ap_seaborn_palette"
      ],
      "metadata": {
        "id": "IvLwV7v_J-_J"
      },
      "execution_count": null,
      "outputs": []
    },
    {
      "cell_type": "code",
      "source": [
        "# powerful widget: works with Color Brewer colors\n",
        "# https://seaborn.pydata.org/generated/seaborn.choose_colorbrewer_palette.html\n",
        "# https://colorbrewer2.org\n",
        "\n",
        "myColors = sns.choose_colorbrewer_palette(\"qualitative\")\n",
        "\n",
        "# in the arguments of the functions (inside parantheses), you must tell the data type you are working with:\n",
        "# qualitative, diverging, or sequential"
      ],
      "metadata": {
        "id": "qvjWqw8yw-fL"
      },
      "execution_count": null,
      "outputs": []
    },
    {
      "cell_type": "code",
      "source": [
        "# let's use this color palette back into the pairplot penguins data\n",
        "\n",
        "sns.pairplot(penguins, hue=\"Island\", palette=myColors, plot_kws={'alpha': 0.6})"
      ],
      "metadata": {
        "id": "R4zfbabZLW73"
      },
      "execution_count": null,
      "outputs": []
    },
    {
      "cell_type": "code",
      "source": [
        "# link to data: https://www.metoffice.gov.uk/hadobs/hadcrut5/data/current/analysis/diagnostics/HadCRUT.5.0.1.0.analysis.summary_series.global.annual.csv\n",
        "# https://www.metoffice.gov.uk/hadobs/hadcrut5/data/current/download.html\n",
        "\n",
        "climate = pd.read_csv('https://www.metoffice.gov.uk/hadobs/hadcrut5/data/current/analysis/diagnostics/HadCRUT.5.0.1.0.analysis.summary_series.global.annual.csv')\n",
        "climate.head()"
      ],
      "metadata": {
        "id": "kdZoxoIcN2N0"
      },
      "execution_count": null,
      "outputs": []
    },
    {
      "cell_type": "code",
      "source": [
        "# the year starts in 1850 and ends in ...\n",
        "\n",
        "climate.tail()\n",
        "\n",
        "# what year?"
      ],
      "metadata": {
        "id": "e0FPfUBtzrIo"
      },
      "execution_count": null,
      "outputs": []
    },
    {
      "cell_type": "code",
      "source": [
        "# let's look through the sequential color palette for something that looks like the warming stripes\n",
        "\n",
        "# is it d (diverging), s (sequential), or q (qualitative)?\n",
        "climateColors = sns.choose_colorbrewer_palette(\"d\")"
      ],
      "metadata": {
        "id": "eGyM95jLOSHM"
      },
      "execution_count": null,
      "outputs": []
    },
    {
      "cell_type": "code",
      "source": [
        "# https://seaborn.pydata.org/tutorial/color_palettes.html\n",
        "# try this with a few more\n",
        "\n",
        "# but I think coolwarm looks the closest\n",
        "sns.color_palette(\"coolwarm\", as_cmap=True)\n"
      ],
      "metadata": {
        "id": "r2QXbT62QM1r"
      },
      "execution_count": null,
      "outputs": []
    },
    {
      "cell_type": "code",
      "source": [
        "sns.barplot(x=climate[\"Time\"], y=climate[\"Anomaly (deg C)\"], palette=\"coolwarm\")\n",
        "\n",
        "sns.despine()\n",
        "# this takes the top and right borders off the chart - we (often) don't need them!"
      ],
      "metadata": {
        "id": "k9gfKAqIPM9a"
      },
      "execution_count": null,
      "outputs": []
    },
    {
      "cell_type": "code",
      "source": [
        "# nice start to the chart!\n",
        "# in order to make this chart like the warming stripes image:\n",
        "# how do we normalize, so all values are between 0 and 1?\n",
        "\n",
        "# normalize = (value - minimum) / (max - minimum)\n",
        "# store this in a new column, create new attribute: normalized_temps\n",
        "climate['normalized_temps'] = (climate[\"Anomaly (deg C)\"] - climate[\"Anomaly (deg C)\"].min()) / (climate[\"Anomaly (deg C)\"].max() - climate[\"Anomaly (deg C)\"].min())\n",
        "climate.sample(5)"
      ],
      "metadata": {
        "id": "9q_KKoKzQCuM"
      },
      "execution_count": null,
      "outputs": []
    },
    {
      "cell_type": "code",
      "source": [
        "# return of matplotlib!\n",
        "# https://seaborn.pydata.org/faq.html?highlight=xticks#wait-i-need-to-learn-how-to-use-matplotlib-too\n",
        "# usually for figure, axes, title, stuff beyond the plot itself\n",
        "\n",
        "import matplotlib.pyplot as plt\n",
        "plt.figure(figsize=(15, 5), dpi=300)\n",
        "plt.rcParams[\"font.family\"] = \"monospace\"\n",
        "\n",
        "colors = sns.color_palette(\"coolwarm\", n_colors=len(climate), as_cmap=True)\n",
        "# gives me a palette with 1 color for every row in climate dataset, continuous color\n",
        "mapped_colors = [colors(val) for val in climate['normalized_temps']]\n",
        "# this gives a list in order, 1 color value for each normalized_temp value in the dataset\n",
        "# now we can use it!\n",
        "\n",
        "sns.barplot(x=climate[\"Time\"], y=[1] * len(climate), palette=mapped_colors, width=0.99)\n",
        "sns.despine(left=True, bottom=True)\n",
        "\n",
        "ax = plt.gca()\n",
        "ax.set_xlabel('', fontsize=12, labelpad=10)\n",
        "ax.set_xticks([])\n",
        "ax.set_yticks([])\n",
        "plt.title(\"\\nMapping Global Temperature Changes from Average, 1850-2023\")\n"
      ],
      "metadata": {
        "id": "RnVdhjAlTnxk"
      },
      "execution_count": null,
      "outputs": []
    },
    {
      "cell_type": "code",
      "source": [
        "# let's make some heatmaps with the same data\n",
        "\n",
        "# we're going to need a bit of processing:\n",
        "\n",
        "climateIndexed = climate.set_index('Time', inplace=False)\n",
        "climateIndexed.head()"
      ],
      "metadata": {
        "id": "S3QKFgm49ee0"
      },
      "execution_count": null,
      "outputs": []
    },
    {
      "cell_type": "code",
      "source": [
        "# what is the difference between climateIndexed and climate?\n",
        "\n",
        "climate.head()"
      ],
      "metadata": {
        "id": "rKOaRn8I_3Sg"
      },
      "execution_count": null,
      "outputs": []
    },
    {
      "cell_type": "code",
      "source": [
        "# create a heatmap, with climateIndexed as the data loaded into seaborn\n",
        "# https://seaborn.pydata.org/generated/seaborn.heatmap.html\n",
        "\n",
        "sns.heatmap(climateIndexed, cmap=\"magma\")\n",
        "\n",
        "# remember to fix the axes so they are legible\n",
        "# and add a title"
      ],
      "metadata": {
        "id": "eo74lFtQAEmu"
      },
      "execution_count": null,
      "outputs": []
    },
    {
      "cell_type": "code",
      "source": [
        "# 🤖 NOW ON YOUR OWN!\n",
        "# create another heatmap with the same data, but with a custom palette of your own choosing\n",
        "# use hexidecimal colors, or crayon names, xkcd, etc.\n",
        "\n"
      ],
      "metadata": {
        "id": "4gLmZgiVA6JB"
      },
      "execution_count": null,
      "outputs": []
    },
    {
      "cell_type": "code",
      "source": [
        "# create another heatmap with the same data, but with a 2nd custom palette of your own choosing\n",
        "# use hexidecimal colors, or crayon names, xkcd, etc.\n"
      ],
      "metadata": {
        "id": "pCES5i95Bl1L"
      },
      "execution_count": null,
      "outputs": []
    },
    {
      "cell_type": "code",
      "source": [
        "# create another heatmap with the same data, but with a new named palette, from Color Brewer\n",
        "\n",
        "# (use the widget from earlier!)\n",
        "# https://seaborn.pydata.org/generated/seaborn.choose_colorbrewer_palette.html\n",
        "# experiment with using qualitative, diverging, and sequential palettes - which work the best?\n"
      ],
      "metadata": {
        "id": "wH-sBTNDBnh4"
      },
      "execution_count": null,
      "outputs": []
    },
    {
      "cell_type": "code",
      "source": [
        "# create another heatmap with the same data, but with a 2nd named palette, from Color Brewer\n",
        "\n",
        "# (use the widget from earlier!)\n",
        "# https://seaborn.pydata.org/generated/seaborn.choose_colorbrewer_palette.html\n",
        "# experiment with using qualitative, diverging, and sequential palettes - which work the best?\n"
      ],
      "metadata": {
        "id": "HQCPiOUhDm5k"
      },
      "execution_count": null,
      "outputs": []
    },
    {
      "cell_type": "markdown",
      "source": [
        "Which color palette is the most effective to you? How did you make your choice?\n",
        "\n",
        "*   (answer here!)\n",
        "\n",
        "\n",
        "\n"
      ],
      "metadata": {
        "id": "TX1DRkLdB0go"
      }
    },
    {
      "cell_type": "code",
      "source": [
        "# use the \"monthly\" dataset instead of the yearly\n",
        "# look for the url here - https://www.metoffice.gov.uk/hadobs/hadcrut5/data/current/download.html\n",
        "# look for a global monthly CSV link\n",
        "\n",
        "# use pandas to read the CSV and create a dataframe\n",
        "\n",
        "\n",
        "\n"
      ],
      "metadata": {
        "id": "4LWYkhRtViVP"
      },
      "execution_count": null,
      "outputs": []
    },
    {
      "cell_type": "code",
      "source": [
        "# set the time column as the index\n",
        "\n"
      ],
      "metadata": {
        "id": "yOzRGav9CYU6"
      },
      "execution_count": null,
      "outputs": []
    },
    {
      "cell_type": "code",
      "source": [
        "# generate 2 bar graphs and 2 heatmaps of the monthly data, each with their own color palette\n",
        "# @ least 1 color palette should be a custom palette of your choosing!\n",
        "# remember to clean up and label axes, titles, etc.!\n",
        "\n",
        "\n",
        "\n",
        "\n"
      ],
      "metadata": {
        "id": "GSiMjMy8DvLs"
      },
      "execution_count": null,
      "outputs": []
    },
    {
      "cell_type": "code",
      "source": [
        "# BAR GRAPH"
      ],
      "metadata": {
        "id": "PbSUp6U8GCBv"
      },
      "execution_count": null,
      "outputs": []
    },
    {
      "cell_type": "code",
      "source": [
        "# BAR GRAPH"
      ],
      "metadata": {
        "id": "9o-TOfhPGssf"
      },
      "execution_count": null,
      "outputs": []
    },
    {
      "cell_type": "code",
      "source": [
        "# HEATMAP"
      ],
      "metadata": {
        "id": "hybP8Jp3GsZK"
      },
      "execution_count": null,
      "outputs": []
    },
    {
      "cell_type": "code",
      "source": [
        "# HEATMAP"
      ],
      "metadata": {
        "id": "FDTYQcgFGsA8"
      },
      "execution_count": null,
      "outputs": []
    },
    {
      "cell_type": "markdown",
      "source": [
        "## 🪼 when you are finished! submit: 🖇️\n",
        "\n",
        "1. Download this notebook as an `.ipynb` file (File -> Download)\n",
        "2. Go to [this link](https://airtable.com/appJ1zoJbOnRhJYPQ/shr6LkH556ySC6uqU) and upload the file via the form.\n",
        "3. Then you're done! In-class labs are counted as participation credit."
      ],
      "metadata": {
        "id": "0E1ocskLHagk"
      }
    },
    {
      "cell_type": "markdown",
      "source": [
        "**🔥🧊 citations:**\n",
        "- warming stripes inspiration: [Towards Data Science](https://towardsdatascience.com/visualizing-climate-change-a-step-by-step-guide-to-reproduce-climate-stripes-with-python-ea1d440e8e8d), Guillaume Weingertner\n",
        "- original climate dataset and details: https://www.metoffice.gov.uk/hadobs/hadcrut5/data/current/download.html\n",
        "- palmerpenguins python package: https://github.com/mcnakhaee/palmerpenguins\n",
        "- more on the Warming Stripes: https://showyourstripes.info/"
      ],
      "metadata": {
        "id": "UgBRXk0xGG7z"
      }
    }
  ]
}