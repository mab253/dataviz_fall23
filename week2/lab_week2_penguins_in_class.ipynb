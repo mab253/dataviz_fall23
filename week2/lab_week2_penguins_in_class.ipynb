{
  "nbformat": 4,
  "nbformat_minor": 0,
  "metadata": {
    "colab": {
      "provenance": []
    },
    "kernelspec": {
      "name": "python3",
      "display_name": "Python 3"
    },
    "language_info": {
      "name": "python"
    }
  },
  "cells": [
    {
      "cell_type": "code",
      "execution_count": null,
      "metadata": {
        "id": "nVpvKr3-Xe49"
      },
      "outputs": [],
      "source": [
        "# 🐼 warm up with pandas - import, and DIY dataframe\n",
        "\n",
        "import pandas as pd\n",
        "\n",
        "df = pd.DataFrame({\n",
        "    'Borough': ['Brooklyn', 'Manhattan', 'Queens', 'Staten Island', 'Bronx'],\n",
        "    '2020 Population': [2736074, 1694251, 2405464, 495747, 1472654],\n",
        "    'Major Airport': [False, False, True, False, False]\n",
        "})\n",
        "\n",
        "# using square brackets [] notation\n",
        "# how can I access the first cell in the 2020 population column?\n"
      ]
    },
    {
      "cell_type": "code",
      "source": [
        "# install the dataset via pip, python package manager\n",
        "# https://github.com/mcnakhaee/palmerpenguins\n",
        "\n",
        "\n",
        "\n",
        "# load dataframe into variable called penguins\n",
        "\n",
        "\n"
      ],
      "metadata": {
        "id": "6nAzKqecaI-9"
      },
      "execution_count": null,
      "outputs": []
    },
    {
      "cell_type": "code",
      "source": [
        "# take a look @ the first 5 rows of the dataset\n",
        "# with head()\n"
      ],
      "metadata": {
        "id": "u_yN2sH1aL4L"
      },
      "execution_count": null,
      "outputs": []
    },
    {
      "cell_type": "code",
      "source": [
        "# hmmm, what is culmen?!\n",
        "# https://allisonhorst.github.io/palmerpenguins/articles/art.html"
      ],
      "metadata": {
        "id": "xZ2qRsCIbWln"
      },
      "execution_count": null,
      "outputs": []
    },
    {
      "cell_type": "code",
      "source": [
        "# let's rename that column name, culmen\n",
        "# https://pandas.pydata.org/docs/reference/api/pandas.DataFrame.rename.html\n",
        "\n",
        "# dataframe = dataframe.rename(columns={'old_column_name': 'new_column_name'})\n",
        "\n",
        "# check it again with head()\n",
        "\n"
      ],
      "metadata": {
        "id": "uKaIwQz2clwX"
      },
      "execution_count": null,
      "outputs": []
    },
    {
      "cell_type": "code",
      "source": [
        "# get the \"shape\" of the dataset\n",
        "# the number of rows and columns (rows, columns\n",
        "\n",
        "# https://pandas.pydata.org/docs/reference/api/pandas.DataFrame.shape.html\n",
        "\n"
      ],
      "metadata": {
        "id": "swkOmfoCc24B"
      },
      "execution_count": null,
      "outputs": []
    },
    {
      "cell_type": "code",
      "source": [
        "# summarize info: columns, non-null counts, and data type\n",
        "# https://pandas.pydata.org/docs/reference/api/pandas.DataFrame.info.html\n",
        "\n"
      ],
      "metadata": {
        "id": "CJfrFObcdQq6"
      },
      "execution_count": null,
      "outputs": []
    },
    {
      "cell_type": "code",
      "source": [
        "# \"describe\" dataframe:\n",
        "# get statistics for each quantitative column/attribute\n",
        "# https://pandas.pydata.org/docs/reference/api/pandas.DataFrame.describe.html\n",
        "\n"
      ],
      "metadata": {
        "id": "mavaDsCOdi_G"
      },
      "execution_count": null,
      "outputs": []
    },
    {
      "cell_type": "code",
      "source": [
        "# write to csv, to view in another platform\n",
        "# https://pandas.pydata.org/docs/reference/api/pandas.DataFrame.to_csv.html\n",
        "\n"
      ],
      "metadata": {
        "id": "MXGrkIciduII"
      },
      "execution_count": null,
      "outputs": []
    },
    {
      "cell_type": "code",
      "source": [
        "# explore: count how many non-NA (blank, undefined, missing) values, per column?\n",
        "# also part of .info()\n",
        "\n"
      ],
      "metadata": {
        "id": "SH8T3AV4d-FP"
      },
      "execution_count": null,
      "outputs": []
    },
    {
      "cell_type": "code",
      "source": [
        "# hmmm, values don't all add to 344 ... show only the missing values?\n",
        "# https://pandas.pydata.org/docs/reference/api/pandas.DataFrame.isna.html\n",
        "\n"
      ],
      "metadata": {
        "id": "edtNZe1-eKpW"
      },
      "execution_count": null,
      "outputs": []
    },
    {
      "cell_type": "code",
      "source": [
        "# explore: how many different values for the 'island' column/attribute?\n",
        "\n"
      ],
      "metadata": {
        "id": "eMcDY7HzeY_P"
      },
      "execution_count": null,
      "outputs": []
    },
    {
      "cell_type": "code",
      "source": [
        "# explore: how many unique values for different columns? square bracket [] notation\n",
        "# https://pandas.pydata.org/docs/reference/api/pandas.DataFrame.nunique.html\n",
        "\n"
      ],
      "metadata": {
        "id": "vGDApGVpenWI"
      },
      "execution_count": null,
      "outputs": []
    },
    {
      "cell_type": "code",
      "source": [
        "# let's sort by flipper length\n",
        "# documentation on sorting: https://pandas.pydata.org/docs/reference/api/pandas.DataFrame.sort_values.html\n",
        "\n"
      ],
      "metadata": {
        "id": "neaQ7gPRfHvb"
      },
      "execution_count": null,
      "outputs": []
    },
    {
      "cell_type": "code",
      "source": [
        "# what is the standard deviation of the quantiataive attributes - how far are values from the mean?\n",
        "# https://pandas.pydata.org/docs/reference/api/pandas.DataFrame.std.html\n",
        "# what happens when skipna = False?\n"
      ],
      "metadata": {
        "id": "0eBErQsaff8R"
      },
      "execution_count": null,
      "outputs": []
    },
    {
      "cell_type": "code",
      "source": [
        "# what about creating a smaller DataFrame, just bill length vs species?\n",
        "# a subset ...\n",
        "# on selecting data: https://jakevdp.github.io/PythonDataScienceHandbook/03.02-data-indexing-and-selection.html\n",
        "\n",
        "\n",
        "\n",
        "# let's sort that again\n"
      ],
      "metadata": {
        "id": "NMZZMJNof77I"
      },
      "execution_count": null,
      "outputs": []
    },
    {
      "cell_type": "code",
      "source": [
        "# if we are going to visualize this, we could choose to get rid of NA outliers\n",
        "\n",
        "\n",
        "\n",
        "# more context on missing values: https://jakevdp.github.io/PythonDataScienceHandbook/03.04-missing-values.html\n"
      ],
      "metadata": {
        "id": "2NhLbw4Lg6MP"
      },
      "execution_count": null,
      "outputs": []
    },
    {
      "cell_type": "code",
      "source": [
        "# let's look @ the mean of the bill length, by species\n",
        "# documentation on groupby: https://pandas.pydata.org/docs/user_guide/groupby.html\n",
        "\n"
      ],
      "metadata": {
        "id": "kc3t1ft-hToF"
      },
      "execution_count": null,
      "outputs": []
    },
    {
      "cell_type": "code",
      "source": [
        "# let's start with a scatter plot of just this data, species + bill length\n",
        "# working with the matplotlib defaults ...\n",
        "\n",
        "# we need to load matplotlib!"
      ],
      "metadata": {
        "id": "Uzc2GBcUiEzN"
      },
      "execution_count": null,
      "outputs": []
    },
    {
      "cell_type": "code",
      "source": [
        "# but if I want to show each species in a different color, I should filter my data\n",
        "\n",
        "# make a list of all the unique values in the \"Species\" column, full names\n",
        "\n",
        "\n",
        "# filter: just DataFrames of culmen length vs. species, one DataFrame per species\n",
        "\n",
        "\n",
        "\n",
        "# note we could loop here ... but are spelling this out for now\n",
        "\n",
        "\n",
        "# let's check on just chinstrap, with head()"
      ],
      "metadata": {
        "id": "1Kj_8NezigHj"
      },
      "execution_count": null,
      "outputs": []
    },
    {
      "cell_type": "code",
      "source": [
        "# now we can plot the 3 individually, with different options!\n",
        "# remember: plt.scatter(x, y, options)\n",
        "# https://matplotlib.org/stable/api/_as_gen/matplotlib.pyplot.scatter.html\n",
        "\n",
        "\n",
        "\n",
        "\n"
      ],
      "metadata": {
        "id": "2krkwVMxkF8H"
      },
      "execution_count": null,
      "outputs": []
    },
    {
      "cell_type": "code",
      "source": [
        "# to examine the mean along with the scatter, let's add a boxplot to each species\n",
        "# matplotlib docs: https://matplotlib.org/stable/api/_as_gen/matplotlib.pyplot.boxplot.html#\n",
        "\n",
        "\n",
        "\n",
        "# remember the pattern! plt.type(data, options)\n",
        "\n",
        "\n",
        "# now we add the scatters back in\n",
        "# pattern: plt.scatter(x, y, options)\n",
        "# to match the box plots to the scatter plots, we assign:\n",
        "# adelie = 0, gentoo = 1, chinstrap = 2\n",
        "# x values here need to be a list the same length as the y list\n",
        "\n",
        "\n",
        "\n",
        "\n"
      ],
      "metadata": {
        "id": "owez0sclk846"
      },
      "execution_count": null,
      "outputs": []
    },
    {
      "cell_type": "code",
      "source": [
        "# let's do some data transformation, and \"jitter\" the dots\n",
        "\n",
        "\n",
        "\n",
        "# for each species, I want to have an x_data list, small random numbers in a range near their x value\n",
        "# the list of x values needs to be the same length as the list of y values\n"
      ],
      "metadata": {
        "id": "yhxKRG5FmLKu"
      },
      "execution_count": null,
      "outputs": []
    },
    {
      "cell_type": "code",
      "source": [
        "# let's see a violin plot to this data\n",
        "# documentation: https://matplotlib.org/stable/api/_as_gen/matplotlib.pyplot.violinplot.html\n",
        "\n"
      ],
      "metadata": {
        "id": "YpambyIincKy"
      },
      "execution_count": null,
      "outputs": []
    },
    {
      "cell_type": "code",
      "source": [
        "# now we ADD the violin to the outside\n",
        "\n",
        "# and style the median lines in the box plot\n",
        "\n",
        "\n",
        "\n",
        "# let's change the background fill to transparent - or, facecolor to 'none' for each violin plot\n"
      ],
      "metadata": {
        "id": "kJuRGVoxnyAB"
      },
      "execution_count": null,
      "outputs": []
    },
    {
      "cell_type": "code",
      "source": [
        "# reproducing the plot ...\n",
        "plt.figure(figsize=(14, 10))\n",
        "# figsize = inches!\n",
        "\n",
        "\n",
        "\n",
        "\n",
        "# but let's clean up the axes, titles, text, font, etc.!\n",
        "# https://matplotlib.org/stable/api/_as_gen/matplotlib.pyplot.title.html\n",
        "\n",
        "\n",
        "\n",
        "\n",
        "# and save it\n"
      ],
      "metadata": {
        "id": "x8NO4u3boE5o"
      },
      "execution_count": null,
      "outputs": []
    },
    {
      "cell_type": "code",
      "source": [
        "# nice!\n",
        "# now ... let's go back to the larger penguin dataset\n",
        "# and plot flipper length vs. body mass, for each of the 3 species\n",
        "\n",
        "\n"
      ],
      "metadata": {
        "id": "CVMBdgc2pCp1"
      },
      "execution_count": null,
      "outputs": []
    },
    {
      "cell_type": "code",
      "source": [
        "# ok ... but we want to filter the dataset to get 3 species, differentiated\n",
        "\n",
        "# first getting a smaller dataframe: just flipper length, body mass, and species\n",
        "\n",
        "\n"
      ],
      "metadata": {
        "id": "h7Jz0NrPpP3L"
      },
      "execution_count": null,
      "outputs": []
    },
    {
      "cell_type": "code",
      "source": [
        "# now drop any NA missing values\n",
        "\n",
        "\n"
      ],
      "metadata": {
        "id": "DacR4shspiA-"
      },
      "execution_count": null,
      "outputs": []
    },
    {
      "cell_type": "code",
      "source": [
        "# make filtered dataframes for each species: i.e., an adelie table with only flipper length, body mass, and species\n",
        "# so that we can plot each species with different parameters\n",
        "\n",
        "\n",
        "\n",
        "# test adelie out, using .head()\n"
      ],
      "metadata": {
        "id": "IXQJhI19qio3"
      },
      "execution_count": null,
      "outputs": []
    },
    {
      "cell_type": "code",
      "source": [
        "plt.figure(figsize=(10, 8))\n",
        "\n",
        "# use markers! to show species\n",
        "# https://matplotlib.org/stable/api/markers_api.html#module-matplotlib.markers\n",
        "\n",
        "\n",
        "\n",
        "# note: we could loop these, but we are spelling them out for now\n",
        "\n",
        "# add legend + labels!\n",
        "\n",
        "\n",
        "\n"
      ],
      "metadata": {
        "id": "lnTXkuQMplWz"
      },
      "execution_count": null,
      "outputs": []
    },
    {
      "cell_type": "code",
      "source": [
        "# 📄 documentation cheatsheet!\n",
        "\n",
        "# bar chart: https://matplotlib.org/stable/api/_as_gen/matplotlib.pyplot.bar.html\n",
        "\n",
        "# histogram: https://matplotlib.org/stable/api/_as_gen/matplotlib.pyplot.hist.html\n",
        "\n",
        "# titles: https://matplotlib.org/stable/api/_as_gen/matplotlib.pyplot.title.html\n",
        "\n",
        "# axis labels: https://matplotlib.org/stable/api/_as_gen/matplotlib.pyplot.xlabel.html\n",
        "\n",
        "# colors: https://matplotlib.org/stable/tutorials/colors/colors.html\n",
        "\n",
        "# annotations: https://matplotlib.org/stable/gallery/text_labels_and_annotations/annotation_basic.html\n",
        "\n",
        "# fonts: https://matplotlib.org/stable/gallery/text_labels_and_annotations/fonts_demo_kw.html\n",
        "\n",
        "# more fonts: https://matplotlib.org/stable/gallery/text_labels_and_annotations/font_family_rc.html"
      ],
      "metadata": {
        "id": "-ZW7o0I2raEQ"
      },
      "execution_count": null,
      "outputs": []
    },
    {
      "cell_type": "code",
      "source": [
        "# now on your own!\n",
        "\n",
        "# using the penguins dataframe, can you make a histogram for the body mass attribute, where the plot shows 3 species in different colors?\n",
        "# make sure to label your axes and add a title 🎨\n",
        "\n",
        "\n",
        "\n",
        "\n",
        "\n",
        "\n"
      ],
      "metadata": {
        "id": "ChnXfe_kq8y_"
      },
      "execution_count": null,
      "outputs": []
    },
    {
      "cell_type": "code",
      "source": [
        "# create a bar chart, with (at least) 2 variables of your choice\n",
        "# (how will you get the counts for the y-axis?)\n",
        "# make sure to label your axes and add a title 🎨\n",
        "\n",
        "\n",
        "\n",
        "\n",
        "\n",
        "\n",
        "\n",
        "\n",
        "\n",
        "\n",
        "\n"
      ],
      "metadata": {
        "id": "af1CNUGJrkH_"
      },
      "execution_count": null,
      "outputs": []
    },
    {
      "cell_type": "code",
      "source": [
        "# if you have more time: annotate some features of your plots\n",
        "# https://matplotlib.org/stable/tutorials/text/annotations.html\n",
        "\n",
        "\n",
        "\n",
        "\n",
        "\n"
      ],
      "metadata": {
        "id": "vyK9BpT7sGxP"
      },
      "execution_count": null,
      "outputs": []
    },
    {
      "cell_type": "markdown",
      "source": [
        "**🧊🐧 citations:**\n",
        "- violin inspiration: https://python-graph-gallery.com/web-ggbetweenstats-with-matplotlib/ Tuo Wang, Tomas Capretto\n",
        "- original dataset and examples: https://allisonhorst.github.io/palmerpenguins/index.html\n",
        "- palmerpenguins python package: https://github.com/mcnakhaee/palmerpenguins\n",
        "- Brian Byrne [notebook](https://colab.research.google.com/drive/1RUzNHKpLCGuik_hpVLfto5bSH_KFaqJb) and [video](https://www.youtube.com/watch?v=qzW-Zx4HIK0)\n",
        "- on the dataset: https://www.baseten.co/blog/data-curiosity-move-over-ames-its-palmer-penguin-time"
      ],
      "metadata": {
        "id": "wp2x3Qhjr-TX"
      }
    }
  ]
}