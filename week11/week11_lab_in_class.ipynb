{
  "nbformat": 4,
  "nbformat_minor": 0,
  "metadata": {
    "colab": {
      "provenance": []
    },
    "kernelspec": {
      "name": "python3",
      "display_name": "Python 3"
    },
    "language_info": {
      "name": "python"
    }
  },
  "cells": [
    {
      "cell_type": "markdown",
      "source": [
        "# 🤖 missing data visualization lab\n",
        "\n",
        "We are going to work with international fraud + corruption datasets, to experiment with visualizing and working with _missing_ data.\n",
        "\n",
        "\n",
        "*   First, read the context for this data, briefly here: [29 Leaks, Distributed Denial of Secrets](https://ddosecrets.com/wiki/29_Leaks)\n",
        "*   Next download 4 csv files from this leaked dataset:\n",
        "  1. https://bevel-near-handle.glitch.me/users.csv\n",
        "  2. https://bevel-near-handle.glitch.me/address.csv\n",
        "  3. https://bevel-near-handle.glitch.me/company_tax.csv\n",
        "  4. https://bevel-near-handle.glitch.me/company_registration_incorporation_order_form_lnk.csv\n",
        "\n",
        "* Add these files to your Google Colab file system. This is all the info you have, no data dictionary, etc.! That's what some of these leaked datasets look like.\n",
        "\n"
      ],
      "metadata": {
        "id": "rb5Q0rLXPxlm"
      }
    },
    {
      "cell_type": "code",
      "source": [
        "# first I need to install missingno\n",
        "!pip install missingno\n",
        "\n",
        "# now import some libaries!\n",
        "# we are going to need pandads, missingno, and matplotlib"
      ],
      "metadata": {
        "id": "cV439cquY8v-"
      },
      "execution_count": null,
      "outputs": []
    },
    {
      "cell_type": "code",
      "execution_count": null,
      "metadata": {
        "id": "NXCVIvQLPrWt"
      },
      "outputs": [],
      "source": [
        "# let's start with the users.csv file - load it in with pandas, and inspect it using .head()\n",
        "\n",
        "\n",
        "\n"
      ]
    },
    {
      "cell_type": "code",
      "source": [
        "# using the missingno library: https://github.com/ResidentMario/missingno/blob/master/README.md\n",
        "# create a MATRIX that shows which data values are missing in users.csv\n",
        "\n",
        "\n",
        "\n",
        "\n"
      ],
      "metadata": {
        "id": "rR0Ei5UxQyKz"
      },
      "execution_count": null,
      "outputs": []
    },
    {
      "cell_type": "code",
      "source": [
        "# hmmm ... some is missing, but look back @ the .head() sample ... does everyone really have a middle name?\n",
        "\n",
        "# what transformation do you need to perform to create a more accurate visualization?\n",
        "\n",
        "\n"
      ],
      "metadata": {
        "id": "agHAqzCORcCn"
      },
      "execution_count": null,
      "outputs": []
    },
    {
      "cell_type": "code",
      "source": [
        "# @markdown hint if you need it:\n",
        "for column in df.select_dtypes(include=[object]):\n",
        "    df[column] = df[column].replace('SOMESTRING', float('nan'))"
      ],
      "metadata": {
        "cellView": "form",
        "id": "pi3W9pbgSyOe"
      },
      "execution_count": null,
      "outputs": []
    },
    {
      "cell_type": "code",
      "source": [
        "# now try running the missingno matrix function again, on the data from users.csv\n",
        "\n",
        "\n"
      ],
      "metadata": {
        "id": "GBCGYmELTT0c"
      },
      "execution_count": null,
      "outputs": []
    },
    {
      "cell_type": "code",
      "source": [
        "# try running the missingno BAR function, on the data from users.csv\n",
        "\n",
        "\n",
        "\n",
        "\n"
      ],
      "metadata": {
        "id": "URrSJYuwTfJz"
      },
      "execution_count": null,
      "outputs": []
    },
    {
      "cell_type": "code",
      "source": [
        "# try running the missingno HEATMAP function, on the data from users.csv\n",
        "\n",
        "\n",
        "\n"
      ],
      "metadata": {
        "id": "Q1po7yxVTkmK"
      },
      "execution_count": null,
      "outputs": []
    },
    {
      "cell_type": "code",
      "source": [
        "# try running the missingno DENDROGRAM function, on the data from users.csv\n",
        "\n",
        "\n",
        "\n",
        "\n"
      ],
      "metadata": {
        "id": "0-sZ0BWDTmGz"
      },
      "execution_count": null,
      "outputs": []
    },
    {
      "cell_type": "markdown",
      "source": [
        "🔎 some questions:\n",
        "\n",
        "*   Which columns are helpful in the users dataset?\n",
        "*   What kinds of information is missing?\n",
        "*   Which kinds of missingno visualizations did you find most helpful - and why?\n",
        "\n",
        "_write some notes here! double click to add_\n",
        "\n"
      ],
      "metadata": {
        "id": "HCYV9AIbTvpG"
      }
    },
    {
      "cell_type": "code",
      "source": [
        "# repeat the initial steps for the address.csv file: load in with pandas, inspect with .head()\n",
        "# and work with strings to replace with NULL values !!\n",
        "\n",
        "\n",
        "\n",
        "\n"
      ],
      "metadata": {
        "id": "ACCfdq_iT99M"
      },
      "execution_count": 1,
      "outputs": []
    },
    {
      "cell_type": "code",
      "source": [
        "# create 1 missingno visualization from the data from address.csv (your choice)\n",
        "\n",
        "\n",
        "\n",
        "\n"
      ],
      "metadata": {
        "id": "SO2pBptaUi9p"
      },
      "execution_count": null,
      "outputs": []
    },
    {
      "cell_type": "code",
      "source": [
        "# create 1 MORE missingno visualization from the data from address.csv (your choice)\n",
        "\n",
        "\n",
        "\n",
        "\n",
        "\n"
      ],
      "metadata": {
        "id": "sf7ldy1cUq_-"
      },
      "execution_count": null,
      "outputs": []
    },
    {
      "cell_type": "code",
      "source": [
        "# repeat the initial steps for the company_registration_incorporation_order_form_lnk.csv file: load in with pandas, inspect with .head()\n",
        "# and work with strings to replace with NULL values !!\n",
        "\n",
        "\n",
        "\n",
        "\n"
      ],
      "metadata": {
        "id": "cafF9HwUUuOv"
      },
      "execution_count": 2,
      "outputs": []
    },
    {
      "cell_type": "code",
      "source": [
        "# create 1 missingno visualization from the data from the registration csv file (your choice)\n",
        "\n",
        "\n",
        "\n",
        "\n"
      ],
      "metadata": {
        "id": "od8SuFkAVPLp"
      },
      "execution_count": null,
      "outputs": []
    },
    {
      "cell_type": "code",
      "source": [
        "# create 1 MORE missingno visualization from the data from registration csv file (your choice)\n",
        "\n",
        "\n",
        "\n",
        "\n",
        "\n"
      ],
      "metadata": {
        "id": "zO-0q4S3VTec"
      },
      "execution_count": null,
      "outputs": []
    },
    {
      "cell_type": "code",
      "source": [
        "# repeat the initial steps for the company_tax.csv file: load in with pandas, inspect with .head()\n",
        "# and work with strings to replace with NULL values !!\n",
        "\n",
        "\n",
        "\n",
        "\n",
        "\n"
      ],
      "metadata": {
        "id": "Oj4PEZKgVYxg"
      },
      "execution_count": null,
      "outputs": []
    },
    {
      "cell_type": "code",
      "source": [
        "# create 1 missingno visualization from the data from the company_tax.csv file (your choice)\n",
        "\n",
        "\n",
        "\n",
        "\n"
      ],
      "metadata": {
        "id": "OS_eXf86VcXU"
      },
      "execution_count": null,
      "outputs": []
    },
    {
      "cell_type": "code",
      "source": [
        "# create 1 MORE missingno visualization from the data from the company_tax.csv file (your choice)\n",
        "\n",
        "\n",
        "\n",
        "\n",
        "\n",
        "\n"
      ],
      "metadata": {
        "id": "73RqzdKFVhez"
      },
      "execution_count": null,
      "outputs": []
    },
    {
      "cell_type": "markdown",
      "source": [
        "### 🔎 some questions:\n",
        "\n",
        "*   Looking at all 4 of the files, what kinds of information are filled out and available for you?\n",
        "* What general categories of information are \"dead ends,\" basically not available in this dataset?\n",
        "* Is there 1 missingno graphic, on a certain file, that was most helpful to you?\n",
        "* What would be some next steps in your investigation?\n",
        "\n",
        "_write some notes here! double click to add_"
      ],
      "metadata": {
        "id": "Zo0iHbvsWO7x"
      }
    },
    {
      "cell_type": "code",
      "source": [
        "# phase 2: BeautifulSoup 🥣\n",
        "\n",
        "# one way to handle missing data, if possible: GO FIND IT!\n",
        "# collect, scrape\n",
        "\n",
        "import requests\n",
        "from bs4 import BeautifulSoup\n",
        "\n",
        "url = 'https://en.wikipedia.org/wiki/Corruption_Perceptions_Index'\n",
        "\n",
        "page = requests.get(url)\n",
        "\n",
        "soup = BeautifulSoup(page.content, 'html.parser')"
      ],
      "metadata": {
        "id": "1dUeirvEVumH"
      },
      "execution_count": 6,
      "outputs": []
    },
    {
      "cell_type": "code",
      "source": [
        "# write in some comments here: what is going on in the above code? 👆\n",
        "# visit the wikipedia page to get more context\n",
        "\n"
      ],
      "metadata": {
        "id": "OaMyDfQ1X2m9"
      },
      "execution_count": null,
      "outputs": []
    },
    {
      "cell_type": "code",
      "source": [
        "# print the title of the HTML page that we just scraped with BeautifulSoup\n",
        "# consult https://www.crummy.com/software/BeautifulSoup/bs4/doc/#going-down\n",
        "\n",
        "\n"
      ],
      "metadata": {
        "id": "mQ6NFvudYCAw"
      },
      "execution_count": 5,
      "outputs": []
    },
    {
      "cell_type": "code",
      "source": [
        "tables = soup.select(\"table.wikitable\")\n",
        "\n",
        "# write in some comments here: what exactly is `tables` (or what do you think it is?!)?\n",
        "\n",
        "\n"
      ],
      "metadata": {
        "id": "-VKqZm0fYN5j"
      },
      "execution_count": 7,
      "outputs": []
    },
    {
      "cell_type": "code",
      "source": [
        "# this code below makes sure that I am choosing to work with the Corruption Perception Index\n",
        "# that includes 2022 data:\n",
        "\n",
        "myTable = None;\n",
        "\n",
        "# loop! through all tables\n",
        "for table in tables:\n",
        "\n",
        "  # <th> is an HTML tag, \"table header\"\n",
        "  ths = table.find_all(\"th\")\n",
        "  for th in ths:\n",
        "      if th.get_text(strip=True) == '2022[5]':\n",
        "        myTable = table\n",
        "        break\n",
        "  if myTable is not None:\n",
        "    break\n",
        "\n",
        "# don't forget to run this code!"
      ],
      "metadata": {
        "id": "oNEn0r9CYkYF"
      },
      "execution_count": 8,
      "outputs": []
    },
    {
      "cell_type": "code",
      "source": [
        "import pandas as pd\n",
        "\n",
        "html_content = str(myTable)\n",
        "# turning myTable into a dataframe!\n",
        "dataframes = pd.read_html(html_content, header=0)\n",
        "\n",
        "# .read_html() returns a list of DataFrames, take the first one (if there's only one table)\n",
        "corruptionTable = dataframes[0]\n",
        "\n",
        "# cleanup!\n",
        "corruptionTable.drop(columns=['2022[5].1', '2021[23].1', '2020[24].1'], inplace=True)\n",
        "corruptionTable.rename(columns={corruptionTable.columns[0]: 'Rank', corruptionTable.columns[1]: 'Nation or Territory', corruptionTable.columns[2]: '2022 Index', corruptionTable.columns[3]: '2021 Index', corruptionTable.columns[4]: '2020 Index'}, inplace=True)\n",
        "# this first row was leftover from the HTML header\n",
        "corruptionTable = corruptionTable.drop(corruptionTable.index[0])\n",
        "\n",
        "# now inspect the table using .head() - does it look clean and clear?\n",
        "\n"
      ],
      "metadata": {
        "id": "S5H__dooY3xi"
      },
      "execution_count": 17,
      "outputs": []
    },
    {
      "cell_type": "code",
      "source": [
        "# print out the row where the \"Nation or Territory\" column is \"United Kingdom\"\n",
        "\n",
        "\n"
      ],
      "metadata": {
        "id": "ECHplQmEakvJ"
      },
      "execution_count": null,
      "outputs": []
    },
    {
      "cell_type": "code",
      "source": [
        "# since this data came from an HTML page, what data type are each of the columns?\n",
        "\n",
        "\n",
        "\n"
      ],
      "metadata": {
        "id": "BgbTX73Hexlm"
      },
      "execution_count": null,
      "outputs": []
    },
    {
      "cell_type": "code",
      "source": [
        "# convert the attribute \"2022 Index\" to a numerica field - we are going to graph it!\n",
        "# https://pandas.pydata.org/docs/reference/api/pandas.to_numeric.html\n",
        "\n",
        "corruptionTable[\"2022 Index\"] = pd.to_numeric(corruptionTable[\"2022 Index\"], errors='coerce')"
      ],
      "metadata": {
        "id": "oEiP629De2kY"
      },
      "execution_count": 19,
      "outputs": []
    },
    {
      "cell_type": "code",
      "source": [
        "# create an interactive, horizontal bar chart in Plot.ly\n",
        "# using this documentation as a starting point: https://plotly.com/python/horizontal-bar-charts/#colored-horizontal-bar-chart\n",
        "# make sure to use plotly.graph_objects!! like in the example\n",
        "\n",
        "# you want to plot all countries on the y-axis\n",
        "# and the \"2022 Index\" on the x-axis\n",
        "\n",
        "# choose a color scheme that best illustrates the scale: https://plotly.com/python/builtin-colorscales/\n",
        "# hint: for this plotly library, you change the color of the \"marker,\"\n",
        "# which are the bars: https://plotly.com/python/marker-style/\n",
        "\n",
        "\n",
        "# make your axes, spacing, etc. as clean + clear as possible!\n",
        "\n",
        "\n",
        "\n",
        "\n",
        "\n",
        "\n",
        "\n",
        "\n",
        "\n",
        "\n",
        "\n",
        "\n",
        "\n",
        "\n",
        "\n",
        "\n",
        "\n",
        "\n",
        "\n",
        "\n",
        "\n",
        "\n",
        "\n",
        "\n",
        "\n",
        "\n",
        "\n",
        "\n",
        "\n"
      ],
      "metadata": {
        "id": "gVB4WTuxc-QT"
      },
      "execution_count": null,
      "outputs": []
    },
    {
      "cell_type": "code",
      "source": [
        "# @markdown see hint after tinkering:\n",
        "\n",
        "# to work on axes, titles, and spacing:\n",
        "fig.update_layout(title='TITLE',\n",
        "        xaxis_title='TITLE',\n",
        "        yaxis_title='TITLE', height=2000, yaxis=dict(\n",
        "        tickmode='array', # helps show EVERY country\n",
        "        tickvals=y_values,  # helps show EVERY country\n",
        "        ticktext=y_values,  # helps show EVERY country\n",
        "        ),)\n"
      ],
      "metadata": {
        "cellView": "form",
        "id": "y4IjqsbsfppJ"
      },
      "execution_count": null,
      "outputs": []
    },
    {
      "cell_type": "code",
      "source": [
        "# alright, final step! let's EXPORT this to HTML\n",
        "\n",
        "# check out the documentation here: https://plotly.github.io/plotly.py-docs/generated/plotly.io.write_html.html\n",
        "\n",
        "# make sure to add the following parameters: full_html=False, load_plotlyjs='cdn'\n",
        "\n",
        "\n",
        "\n"
      ],
      "metadata": {
        "id": "I-fj5EsJgKSR"
      },
      "execution_count": null,
      "outputs": []
    },
    {
      "cell_type": "code",
      "source": [
        "# why would these particular export parameters help you?\n",
        "\n"
      ],
      "metadata": {
        "id": "5JF35xwJggi5"
      },
      "execution_count": null,
      "outputs": []
    }
  ]
}